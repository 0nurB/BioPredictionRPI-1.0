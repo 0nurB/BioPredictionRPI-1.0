{
 "cells": [
  {
   "cell_type": "markdown",
   "metadata": {
    "id": "jXZwzE912K6I"
   },
   "source": [
    "# **Creating Execution Environment**\n",
    "It is necessary to keep the original folder names and run the following cells to enter the folder and download dependencies."
   ]
  },
  {
   "cell_type": "code",
   "execution_count": 2,
   "metadata": {
    "executionInfo": {
     "elapsed": 724,
     "status": "ok",
     "timestamp": 1725620258786,
     "user": {
      "displayName": "Bruno Rafael Florentino",
      "userId": "07372076760471166031"
     },
     "user_tz": 180
    },
    "id": "Sm398GhVywjf"
   },
   "outputs": [],
   "source": [
    "#import os\n",
    "#os._exit(00)"
   ]
  },
  {
   "cell_type": "markdown",
   "metadata": {
    "id": "BJWN8E0idWCa"
   },
   "source": [
    "Access files on the Google drive"
   ]
  },
  {
   "cell_type": "code",
   "execution_count": 3,
   "metadata": {
    "colab": {
     "base_uri": "https://localhost:8080/"
    },
    "executionInfo": {
     "elapsed": 26083,
     "status": "ok",
     "timestamp": 1725620285181,
     "user": {
      "displayName": "Bruno Rafael Florentino",
      "userId": "07372076760471166031"
     },
     "user_tz": 180
    },
    "id": "iELGviitN2Fc",
    "outputId": "563b9ca3-a1d3-4dd9-f486-906c9ef939be"
   },
   "outputs": [
    {
     "name": "stdout",
     "output_type": "stream",
     "text": [
      "Mounted at /content/drive\n"
     ]
    }
   ],
   "source": [
    "from google.colab import drive\n",
    "drive.mount('/content/drive')"
   ]
  },
  {
   "cell_type": "markdown",
   "metadata": {
    "id": "7sMKBE9adAd-"
   },
   "source": [
    "Access the drive folder"
   ]
  },
  {
   "cell_type": "code",
   "execution_count": 4,
   "metadata": {
    "colab": {
     "base_uri": "https://localhost:8080/"
    },
    "executionInfo": {
     "elapsed": 4,
     "status": "ok",
     "timestamp": 1725620285181,
     "user": {
      "displayName": "Bruno Rafael Florentino",
      "userId": "07372076760471166031"
     },
     "user_tz": 180
    },
    "id": "_MM0oXgqyJMZ",
    "outputId": "90251a96-c13d-4404-b96c-67f287bc5a7e"
   },
   "outputs": [
    {
     "name": "stdout",
     "output_type": "stream",
     "text": [
      "/content/drive\n"
     ]
    }
   ],
   "source": [
    "cd drive"
   ]
  },
  {
   "cell_type": "markdown",
   "metadata": {
    "id": "BIAvUMpKdcKd"
   },
   "source": [
    "Access the MyDrive folder"
   ]
  },
  {
   "cell_type": "code",
   "execution_count": 5,
   "metadata": {
    "colab": {
     "base_uri": "https://localhost:8080/"
    },
    "executionInfo": {
     "elapsed": 4,
     "status": "ok",
     "timestamp": 1725620285181,
     "user": {
      "displayName": "Bruno Rafael Florentino",
      "userId": "07372076760471166031"
     },
     "user_tz": 180
    },
    "id": "Hv9ndp63c7V8",
    "outputId": "1f32dfa0-fdfe-414d-c672-a01c66620db9"
   },
   "outputs": [
    {
     "name": "stdout",
     "output_type": "stream",
     "text": [
      "/content/drive/MyDrive\n"
     ]
    }
   ],
   "source": [
    "cd MyDrive"
   ]
  },
  {
   "cell_type": "markdown",
   "metadata": {
    "id": "aYhT4djBdf_Q"
   },
   "source": [
    "Access the ppi-version folder with the BioPrediction files"
   ]
  },
  {
   "cell_type": "code",
   "execution_count": 6,
   "metadata": {
    "colab": {
     "base_uri": "https://localhost:8080/"
    },
    "executionInfo": {
     "elapsed": 3,
     "status": "ok",
     "timestamp": 1725620285181,
     "user": {
      "displayName": "Bruno Rafael Florentino",
      "userId": "07372076760471166031"
     },
     "user_tz": 180
    },
    "id": "-lGoQrTUyL9X",
    "outputId": "acfeb5e1-cc76-4047-838c-2481cc9286b5"
   },
   "outputs": [
    {
     "name": "stdout",
     "output_type": "stream",
     "text": [
      "/content/drive/MyDrive/BioPrediction-PPI\n"
     ]
    }
   ],
   "source": [
    "cd BioPrediction-PPI"
   ]
  },
  {
   "cell_type": "markdown",
   "metadata": {
    "id": "WqUPiE3Gdmow"
   },
   "source": [
    "Download the required python libraries"
   ]
  },
  {
   "cell_type": "code",
   "execution_count": 7,
   "metadata": {
    "colab": {
     "base_uri": "https://localhost:8080/"
    },
    "executionInfo": {
     "elapsed": 357665,
     "status": "ok",
     "timestamp": 1725620642843,
     "user": {
      "displayName": "Bruno Rafael Florentino",
      "userId": "07372076760471166031"
     },
     "user_tz": 180
    },
    "id": "aq6kMtAVc-vU",
    "outputId": "49bd0bc0-5b83-49e0-d9ab-0d6c42b41297"
   },
   "outputs": [
    {
     "name": "stdout",
     "output_type": "stream",
     "text": [
      "Downloading dependencies\n",
      "Downloaded dependencies\n"
     ]
    }
   ],
   "source": [
    "print(\"Downloading dependencies\")\n",
    "!pip install attrs==23.2.0 biopython==1.83 bioservices==1.11.2 catboost==1.2.3 cattrs==23.2.3 colorlog==6.8.2 dgl==2.1.0 easydev==0.13.1 fst-pso==1.8.1 fuzzytm==2.0.5 gevent==24.2.1 greenlet==3.0.3 grequests==0.7.0 hyperopt==0.2.7 imbalanced-learn==0.12.0 line-profiler==4.1.2 miniful==0.0.6 networkx==2.8.8 node2vec==0.4.6 pexpect==4.9.0 platformdirs==4.2.0 polars==0.20.10 py4j==0.10.9.7 pyfume==0.2.25 graphviz==0.20.1 reportlab==4.1.0 requests-cache==1.2.0 scikit-learn==1.4.1.post1 shap==0.44.1 simpful==2.11.1 slicer==0.0.7 suds-community==1.1.2 torch==2.2.1 torchdata==0.7.1 typing-extensions==4.9.0 uniprot==1.3 url-normalize==1.4.3 xgboost==2.0.3 xmltodict==0.13.0 zope-event==5.0 > /dev/null 2>&1\n",
    "print(\"Downloaded dependencies\")"
   ]
  },
  {
   "cell_type": "markdown",
   "metadata": {
    "id": "jilO6tsE2pCj"
   },
   "source": [
    "# **Training a New Model**\n",
    "\n",
    "To run BioPrediction-PPI, known interactions in the given context and all proteins in FASTA format are required.\n",
    "\n",
    "**To start the tool**, after create the environment, use the next form or use the command: `!python BioPrediction.py -h`\n",
    "\n",
    "where -h is:\n",
    "\n",
    "    -input_interactions_train: CSV format file with the interaction table (firts and second columns the proteins name and third the label with 1 for interaction and 0 for non interaction), e.g., all-data/data_human_virus/Sars/interaction.csv\n",
    "\n",
    "    -input_interactions_candidates: CSV format file with the interaction candidates to the prediction (also three columns, but the third put 2 for unlabeled candidates), e.g., all-data/data_human_virus/Sars/interaction.csv\n",
    "\n",
    "    -sequences_dictionary: fasta format file with all the sequences, e.g., all-data/data_human_virus/Sars/dictionary.fasta\n",
    "\n",
    "    Those dictionaries must contain all sequences in train, test, and candidates.\n",
    "\n",
    "    -topology_features: uses topology features to characterization of the sequences, e.g., yes or no, default=yes)\n",
    "\n",
    "    -output: output path, e.g., sars_experiment\n",
    "\n",
    "    Use a string formant to execute BioPrediction, like this complete exemple:\n",
    "    !python BioPrediction.py -input_interactions_train all-data/data_human_virus/Sars/interaction.csv -sequences_dictionary all-data/data_human_virus/Sars/dictionary.fasta -output sars_test -input_interactions_candidates all-data/data_human_virus/Sars/interaction.csv\n",
    "\n",
    "The trained model files will be in the tool's folder with the name specified in the output."
   ]
  },
  {
   "cell_type": "code",
   "execution_count": 7,
   "metadata": {
    "cellView": "form",
    "colab": {
     "base_uri": "https://localhost:8080/"
    },
    "executionInfo": {
     "elapsed": 7963981,
     "status": "ok",
     "timestamp": 1725584959231,
     "user": {
      "displayName": "Bruno Rafael Florentino",
      "userId": "07372076760471166031"
     },
     "user_tz": 180
    },
    "id": "O4mq4xZp_tmi",
    "outputId": "95116c3e-5f75-4018-fec3-61ec1dd0f87a"
   },
   "outputs": [
    {
     "name": "stdout",
     "output_type": "stream",
     "text": [
      "DGL backend not selected or invalid.  Assuming PyTorch for now.\n",
      "Setting the default backend to \"pytorch\". You can change it in the ~/.dgl/config.json file or export the DGLBACKEND environment variable.  Valid options are: pytorch, mxnet, tensorflow (all lowercase)\n",
      "input_interactions_train - all-data/data_human_virus/Sars/interaction.csv: Found File\n",
      "sequences_dictionary - all-data/data_human_virus/Sars/dictionary.fasta: Found File\n",
      "Make the folds\n",
      "Topology features extraction fold1\n",
      "Extracting topological features...\n",
      "Topology features extraction fold2\n",
      "Extracting topological features...\n",
      "Topology features extraction fold3\n",
      "Extracting topological features...\n",
      "Topology features extraction fold4\n",
      "Extracting topological features...\n",
      "Topology features extraction fold5\n",
      "Extracting topological features...\n",
      "Extracting extructural features with MathFeature...\n",
      "Starting the model training stage\n",
      "\n",
      "The metrics for fold 1 are available in sars_final/folds_and_topology_feats/fold1/metrics_model_final.csv\n",
      "The predictions of the candidate interactions are available in sars_final/folds_and_topology_feats/fold1/candidates_prediction.csv\n",
      "\n",
      "The metrics for fold 2 are available in sars_final/folds_and_topology_feats/fold2/metrics_model_final.csv\n",
      "The predictions of the candidate interactions are available in sars_final/folds_and_topology_feats/fold2/candidates_prediction.csv\n",
      "\n",
      "The metrics for fold 3 are available in sars_final/folds_and_topology_feats/fold3/metrics_model_final.csv\n",
      "The predictions of the candidate interactions are available in sars_final/folds_and_topology_feats/fold3/candidates_prediction.csv\n",
      "\n",
      "The metrics for fold 4 are available in sars_final/folds_and_topology_feats/fold4/metrics_model_final.csv\n",
      "The predictions of the candidate interactions are available in sars_final/folds_and_topology_feats/fold4/candidates_prediction.csv\n",
      "\n",
      "The metrics for fold 5 are available in sars_final/folds_and_topology_feats/fold5/metrics_model_final.csv\n",
      "The predictions of the candidate interactions are available in sars_final/folds_and_topology_feats/fold5/candidates_prediction.csv\n",
      "\n",
      "Calculating the average of metrics for the five folds\n",
      "\n",
      "Final performance:\n",
      "\n",
      "               Metric      Mean  Standard deviation\n",
      "0         Precision_1  0.851144            0.063460\n",
      "1            Recall_1  0.873472            0.042105\n",
      "2                F1_1  0.861192            0.044257\n",
      "3       Specificity_1  0.984327            0.007495\n",
      "4         Precision_0  0.987290            0.004303\n",
      "5            Recall_0  0.984327            0.007495\n",
      "6                F1_0  0.985794            0.004722\n",
      "7            Accuracy  0.974234            0.008524\n",
      "8                AUPR  0.868069            0.042092\n",
      "9   Balanced_Accuracy  0.928899            0.022126\n",
      "10                MCC  0.847679            0.048383\n",
      "It is available at sars_final/folds_and_topology_feats/cross_validation_metrics.csv\n"
     ]
    }
   ],
   "source": [
    "# @title **Form to train a model using BioPrediction-PPI**\n",
    "input_interaction_train = \"all-data/data_human_virus/Sars/interaction.csv\" # @param {\"type\":\"string\",\"placeholder\":\"This field is required\"}\n",
    "sequences_dictionary = \"all-data/data_human_virus/Sars/dictionary.fasta\" # @param {\"type\":\"string\",\"placeholder\":\"This field is required\"}\n",
    "output = \"sars_final\" # @param {\"type\":\"string\",\"placeholder\":\"This field is required\"}\n",
    "input_interactions_candidates = \"all-data/data_human_virus/Sars/interaction.csv\" # @param {\"type\":\"string\",\"placeholder\":\"optional\"}\n",
    "topology_features = \"yes\" # @param {\"type\":\"string\",\"placeholder\":\"default = yes\"}\n",
    "\n",
    "\n",
    "if topology_features == \"\":\n",
    "  topology_features = \"yes\"\n",
    "\n",
    "if input_interactions_candidates == \"\":\n",
    "  !python BioPrediction.py -input_interactions_train {input_interaction_train} -sequences_dictionary {sequences_dictionary} -output {output} -topological_features {topology_features}\n",
    "else:\n",
    "  !python BioPrediction.py -input_interactions_train {input_interaction_train} -sequences_dictionary {sequences_dictionary} -input_interactions_candidates {input_interactions_candidates} -output {output} -topological_features {topology_features}"
   ]
  },
  {
   "cell_type": "markdown",
   "metadata": {
    "id": "cYyCVh_U55P7"
   },
   "source": [
    "# **Using a Pre-Trained Model to Predict Candidate Interactions**\n",
    "\n",
    "It is possible to use a pre-trained model to predict interactions again between the proteins in the FASTA file.\n",
    "\n",
    "To do this, use the command: !python -reuse.py -h\n",
    "\n",
    "where -h is:\n",
    "\n",
    "    -input_interactions_candidates: CSV format file with the interaction candidates to the prediction (also three columns, but the third put 2 for unlabeled candidates), e.g., all-data/data_human_virus/Sars/interaction.csv\n",
    "\n",
    "    -trained_model_path: treined model path, e.g., sars_experiment\n",
    "\n",
    "    -topology_features: topology features were used to characterize the sequences, e.g., yes or no, default=yes)\n",
    "\n",
    "    -fold_prediction: choose the fold that will be used to predict the candidates, from 1 to 5, default=1')\n",
    "\n",
    "    Use a string formant to execute reuse a model BioPrediction, like this complete exemple:\n",
    "    !python reuse.py -trained_model_path sars_test -input_interactions_candidates all-data/data_human_virus/Sars/interaction.csv\n",
    "\n",
    "    Or use the next form, after filling in the black spaces and run the cell"
   ]
  },
  {
   "cell_type": "code",
   "execution_count": 8,
   "metadata": {
    "cellView": "form",
    "colab": {
     "base_uri": "https://localhost:8080/"
    },
    "executionInfo": {
     "elapsed": 33770,
     "status": "ok",
     "timestamp": 1725620690362,
     "user": {
      "displayName": "Bruno Rafael Florentino",
      "userId": "07372076760471166031"
     },
     "user_tz": 180
    },
    "id": "tH7JifLdabB7",
    "outputId": "6de7bc88-25e3-4aae-fef5-cb27deb0369c"
   },
   "outputs": [
    {
     "name": "stdout",
     "output_type": "stream",
     "text": [
      "DGL backend not selected or invalid.  Assuming PyTorch for now.\n",
      "Setting the default backend to \"pytorch\". You can change it in the ~/.dgl/config.json file or export the DGLBACKEND environment variable.  Valid options are: pytorch, mxnet, tensorflow (all lowercase)\n",
      "Fold number 1 was used\n",
      "Predicted and saved interactor candidates in sars_final/folds_and_topology_feats/fold1/candidates_prediction.csv\n"
     ]
    }
   ],
   "source": [
    "# @title **Form to rerun a trained model to predict new candidates**\n",
    "trained_model_path = \"sars_final\" # @param {\"type\":\"string\",\"placeholder\":\"This field is required\"}\n",
    "input_interactions_candidates = \"all-data/data_human_virus/Sars/interaction.csv\" # @param {\"type\":\"string\",\"placeholder\":\"This field is required\"}\n",
    "topology_features = \"yes\" # @param {\"type\":\"string\",\"placeholder\":\"yes\"}\n",
    "fold_prediction = \"1\" # @param {\"type\":\"string\",\"placeholder\":\"1\"}\n",
    "\n",
    "if topology_features == \"\":\n",
    "  topology_features = \"yes\"\n",
    "\n",
    "if fold_prediction == \"\":\n",
    "  fold_prediction = 1\n",
    "\n",
    "\n",
    "!python reuse.py -trained_model_path {trained_model_path} -input_interactions_candidates {input_interactions_candidates} -topological_features {topology_features} -fold_prediction {fold_prediction}"
   ]
  },
  {
   "cell_type": "code",
   "execution_count": null,
   "metadata": {
    "colab": {
     "base_uri": "https://localhost:8080/"
    },
    "executionInfo": {
     "elapsed": 318,
     "status": "ok",
     "timestamp": 1725046882410,
     "user": {
      "displayName": "Bruno Rafael Florentino",
      "userId": "07372076760471166031"
     },
     "user_tz": 180
    },
    "id": "WuJXBy17x_EI",
    "outputId": "cc635175-bd4b-4c8d-cb89-ea4d4797f4ad"
   },
   "outputs": [],
   "source": []
  }
 ],
 "metadata": {
  "colab": {
   "authorship_tag": "ABX9TyNgtjFF1enHbsALMwcG5yQW",
   "collapsed_sections": [
    "jXZwzE912K6I"
   ],
   "provenance": [
    {
     "file_id": "11ARTpKxS5rvZUbcko_4UHIfENm-GHVsu",
     "timestamp": 1724788972581
    }
   ]
  },
  "kernelspec": {
   "display_name": "Python 3 (ipykernel)",
   "language": "python",
   "name": "python3"
  },
  "language_info": {
   "codemirror_mode": {
    "name": "ipython",
    "version": 3
   },
   "file_extension": ".py",
   "mimetype": "text/x-python",
   "name": "python",
   "nbconvert_exporter": "python",
   "pygments_lexer": "ipython3",
   "version": "3.11.5"
  }
 },
 "nbformat": 4,
 "nbformat_minor": 1
}
